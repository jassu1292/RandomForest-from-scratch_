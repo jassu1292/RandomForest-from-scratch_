{
  "nbformat": 4,
  "nbformat_minor": 0,
  "metadata": {
    "colab": {
      "provenance": []
    },
    "kernelspec": {
      "name": "python3",
      "display_name": "Python 3"
    },
    "language_info": {
      "name": "python"
    },
    "gpuClass": "standard"
  },
  "cells": [
    {
      "cell_type": "code",
      "execution_count": 1,
      "metadata": {
        "id": "HV-wn1u1Sdic"
      },
      "outputs": [],
      "source": [
        "import pandas as pd\n",
        "import numpy as np\n",
        "import matplotlib.pyplot as plt\n",
        "import seaborn as sns"
      ]
    },
    {
      "cell_type": "code",
      "source": [
        "econmy=pd.read_csv('/content/economy.csv')"
      ],
      "metadata": {
        "id": "S4LdqBbOTADV"
      },
      "execution_count": 2,
      "outputs": []
    },
    {
      "cell_type": "code",
      "source": [
        "bsness=pd.read_csv('/content/business.csv')"
      ],
      "metadata": {
        "id": "pscBN_8OTQRh"
      },
      "execution_count": 3,
      "outputs": []
    },
    {
      "cell_type": "code",
      "source": [
        "df = pd.concat([econmy,bsness])"
      ],
      "metadata": {
        "id": "jxqpcIZLTyab"
      },
      "execution_count": 4,
      "outputs": []
    },
    {
      "cell_type": "code",
      "source": [
        "df.head()"
      ],
      "metadata": {
        "id": "QVG669XvU7Ne",
        "colab": {
          "base_uri": "https://localhost:8080/",
          "height": 206
        },
        "outputId": "1d927a7b-091d-426a-96d4-7691a8689a21"
      },
      "execution_count": 5,
      "outputs": [
        {
          "output_type": "execute_result",
          "data": {
            "text/plain": [
              "         date   airline ch_code  num_code dep_time   from time_taken  \\\n",
              "0  11-02-2022  SpiceJet      SG      8709    18:55  Delhi    02h 10m   \n",
              "1  11-02-2022  SpiceJet      SG      8157    06:20  Delhi    02h 20m   \n",
              "2  11-02-2022   AirAsia      I5       764    04:25  Delhi    02h 10m   \n",
              "3  11-02-2022   Vistara      UK       995    10:20  Delhi    02h 15m   \n",
              "4  11-02-2022   Vistara      UK       963    08:50  Delhi    02h 20m   \n",
              "\n",
              "        stop arr_time      to  price  \n",
              "0  non-stop     21:05  Mumbai  5,953  \n",
              "1  non-stop     08:40  Mumbai  5,953  \n",
              "2  non-stop     06:35  Mumbai  5,956  \n",
              "3  non-stop     12:35  Mumbai  5,955  \n",
              "4  non-stop     11:10  Mumbai  5,955  "
            ],
            "text/html": [
              "\n",
              "  <div id=\"df-8fe12ded-8404-45f2-a793-8cf7dffad348\">\n",
              "    <div class=\"colab-df-container\">\n",
              "      <div>\n",
              "<style scoped>\n",
              "    .dataframe tbody tr th:only-of-type {\n",
              "        vertical-align: middle;\n",
              "    }\n",
              "\n",
              "    .dataframe tbody tr th {\n",
              "        vertical-align: top;\n",
              "    }\n",
              "\n",
              "    .dataframe thead th {\n",
              "        text-align: right;\n",
              "    }\n",
              "</style>\n",
              "<table border=\"1\" class=\"dataframe\">\n",
              "  <thead>\n",
              "    <tr style=\"text-align: right;\">\n",
              "      <th></th>\n",
              "      <th>date</th>\n",
              "      <th>airline</th>\n",
              "      <th>ch_code</th>\n",
              "      <th>num_code</th>\n",
              "      <th>dep_time</th>\n",
              "      <th>from</th>\n",
              "      <th>time_taken</th>\n",
              "      <th>stop</th>\n",
              "      <th>arr_time</th>\n",
              "      <th>to</th>\n",
              "      <th>price</th>\n",
              "    </tr>\n",
              "  </thead>\n",
              "  <tbody>\n",
              "    <tr>\n",
              "      <th>0</th>\n",
              "      <td>11-02-2022</td>\n",
              "      <td>SpiceJet</td>\n",
              "      <td>SG</td>\n",
              "      <td>8709</td>\n",
              "      <td>18:55</td>\n",
              "      <td>Delhi</td>\n",
              "      <td>02h 10m</td>\n",
              "      <td>non-stop</td>\n",
              "      <td>21:05</td>\n",
              "      <td>Mumbai</td>\n",
              "      <td>5,953</td>\n",
              "    </tr>\n",
              "    <tr>\n",
              "      <th>1</th>\n",
              "      <td>11-02-2022</td>\n",
              "      <td>SpiceJet</td>\n",
              "      <td>SG</td>\n",
              "      <td>8157</td>\n",
              "      <td>06:20</td>\n",
              "      <td>Delhi</td>\n",
              "      <td>02h 20m</td>\n",
              "      <td>non-stop</td>\n",
              "      <td>08:40</td>\n",
              "      <td>Mumbai</td>\n",
              "      <td>5,953</td>\n",
              "    </tr>\n",
              "    <tr>\n",
              "      <th>2</th>\n",
              "      <td>11-02-2022</td>\n",
              "      <td>AirAsia</td>\n",
              "      <td>I5</td>\n",
              "      <td>764</td>\n",
              "      <td>04:25</td>\n",
              "      <td>Delhi</td>\n",
              "      <td>02h 10m</td>\n",
              "      <td>non-stop</td>\n",
              "      <td>06:35</td>\n",
              "      <td>Mumbai</td>\n",
              "      <td>5,956</td>\n",
              "    </tr>\n",
              "    <tr>\n",
              "      <th>3</th>\n",
              "      <td>11-02-2022</td>\n",
              "      <td>Vistara</td>\n",
              "      <td>UK</td>\n",
              "      <td>995</td>\n",
              "      <td>10:20</td>\n",
              "      <td>Delhi</td>\n",
              "      <td>02h 15m</td>\n",
              "      <td>non-stop</td>\n",
              "      <td>12:35</td>\n",
              "      <td>Mumbai</td>\n",
              "      <td>5,955</td>\n",
              "    </tr>\n",
              "    <tr>\n",
              "      <th>4</th>\n",
              "      <td>11-02-2022</td>\n",
              "      <td>Vistara</td>\n",
              "      <td>UK</td>\n",
              "      <td>963</td>\n",
              "      <td>08:50</td>\n",
              "      <td>Delhi</td>\n",
              "      <td>02h 20m</td>\n",
              "      <td>non-stop</td>\n",
              "      <td>11:10</td>\n",
              "      <td>Mumbai</td>\n",
              "      <td>5,955</td>\n",
              "    </tr>\n",
              "  </tbody>\n",
              "</table>\n",
              "</div>\n",
              "      <button class=\"colab-df-convert\" onclick=\"convertToInteractive('df-8fe12ded-8404-45f2-a793-8cf7dffad348')\"\n",
              "              title=\"Convert this dataframe to an interactive table.\"\n",
              "              style=\"display:none;\">\n",
              "        \n",
              "  <svg xmlns=\"http://www.w3.org/2000/svg\" height=\"24px\"viewBox=\"0 0 24 24\"\n",
              "       width=\"24px\">\n",
              "    <path d=\"M0 0h24v24H0V0z\" fill=\"none\"/>\n",
              "    <path d=\"M18.56 5.44l.94 2.06.94-2.06 2.06-.94-2.06-.94-.94-2.06-.94 2.06-2.06.94zm-11 1L8.5 8.5l.94-2.06 2.06-.94-2.06-.94L8.5 2.5l-.94 2.06-2.06.94zm10 10l.94 2.06.94-2.06 2.06-.94-2.06-.94-.94-2.06-.94 2.06-2.06.94z\"/><path d=\"M17.41 7.96l-1.37-1.37c-.4-.4-.92-.59-1.43-.59-.52 0-1.04.2-1.43.59L10.3 9.45l-7.72 7.72c-.78.78-.78 2.05 0 2.83L4 21.41c.39.39.9.59 1.41.59.51 0 1.02-.2 1.41-.59l7.78-7.78 2.81-2.81c.8-.78.8-2.07 0-2.86zM5.41 20L4 18.59l7.72-7.72 1.47 1.35L5.41 20z\"/>\n",
              "  </svg>\n",
              "      </button>\n",
              "      \n",
              "  <style>\n",
              "    .colab-df-container {\n",
              "      display:flex;\n",
              "      flex-wrap:wrap;\n",
              "      gap: 12px;\n",
              "    }\n",
              "\n",
              "    .colab-df-convert {\n",
              "      background-color: #E8F0FE;\n",
              "      border: none;\n",
              "      border-radius: 50%;\n",
              "      cursor: pointer;\n",
              "      display: none;\n",
              "      fill: #1967D2;\n",
              "      height: 32px;\n",
              "      padding: 0 0 0 0;\n",
              "      width: 32px;\n",
              "    }\n",
              "\n",
              "    .colab-df-convert:hover {\n",
              "      background-color: #E2EBFA;\n",
              "      box-shadow: 0px 1px 2px rgba(60, 64, 67, 0.3), 0px 1px 3px 1px rgba(60, 64, 67, 0.15);\n",
              "      fill: #174EA6;\n",
              "    }\n",
              "\n",
              "    [theme=dark] .colab-df-convert {\n",
              "      background-color: #3B4455;\n",
              "      fill: #D2E3FC;\n",
              "    }\n",
              "\n",
              "    [theme=dark] .colab-df-convert:hover {\n",
              "      background-color: #434B5C;\n",
              "      box-shadow: 0px 1px 3px 1px rgba(0, 0, 0, 0.15);\n",
              "      filter: drop-shadow(0px 1px 2px rgba(0, 0, 0, 0.3));\n",
              "      fill: #FFFFFF;\n",
              "    }\n",
              "  </style>\n",
              "\n",
              "      <script>\n",
              "        const buttonEl =\n",
              "          document.querySelector('#df-8fe12ded-8404-45f2-a793-8cf7dffad348 button.colab-df-convert');\n",
              "        buttonEl.style.display =\n",
              "          google.colab.kernel.accessAllowed ? 'block' : 'none';\n",
              "\n",
              "        async function convertToInteractive(key) {\n",
              "          const element = document.querySelector('#df-8fe12ded-8404-45f2-a793-8cf7dffad348');\n",
              "          const dataTable =\n",
              "            await google.colab.kernel.invokeFunction('convertToInteractive',\n",
              "                                                     [key], {});\n",
              "          if (!dataTable) return;\n",
              "\n",
              "          const docLinkHtml = 'Like what you see? Visit the ' +\n",
              "            '<a target=\"_blank\" href=https://colab.research.google.com/notebooks/data_table.ipynb>data table notebook</a>'\n",
              "            + ' to learn more about interactive tables.';\n",
              "          element.innerHTML = '';\n",
              "          dataTable['output_type'] = 'display_data';\n",
              "          await google.colab.output.renderOutput(dataTable, element);\n",
              "          const docLink = document.createElement('div');\n",
              "          docLink.innerHTML = docLinkHtml;\n",
              "          element.appendChild(docLink);\n",
              "        }\n",
              "      </script>\n",
              "    </div>\n",
              "  </div>\n",
              "  "
            ]
          },
          "metadata": {},
          "execution_count": 5
        }
      ]
    },
    {
      "cell_type": "code",
      "source": [
        "df.shape"
      ],
      "metadata": {
        "id": "S3J8ZVYtVKbf",
        "colab": {
          "base_uri": "https://localhost:8080/"
        },
        "outputId": "86193081-ead5-490d-bf81-18b24075d50f"
      },
      "execution_count": 6,
      "outputs": [
        {
          "output_type": "execute_result",
          "data": {
            "text/plain": [
              "(300261, 11)"
            ]
          },
          "metadata": {},
          "execution_count": 6
        }
      ]
    },
    {
      "cell_type": "code",
      "source": [
        "df.dtypes"
      ],
      "metadata": {
        "id": "ajrEV-wZgE-N",
        "colab": {
          "base_uri": "https://localhost:8080/"
        },
        "outputId": "4b75701f-5406-4c26-edef-402a8ce3bee7"
      },
      "execution_count": 7,
      "outputs": [
        {
          "output_type": "execute_result",
          "data": {
            "text/plain": [
              "date          object\n",
              "airline       object\n",
              "ch_code       object\n",
              "num_code       int64\n",
              "dep_time      object\n",
              "from          object\n",
              "time_taken    object\n",
              "stop          object\n",
              "arr_time      object\n",
              "to            object\n",
              "price         object\n",
              "dtype: object"
            ]
          },
          "metadata": {},
          "execution_count": 7
        }
      ]
    },
    {
      "cell_type": "code",
      "source": [
        "df['date'] = pd.to_datetime(df['date'], format='%d-%m-%Y')"
      ],
      "metadata": {
        "id": "b7YOb0bbVrYH"
      },
      "execution_count": 8,
      "outputs": []
    },
    {
      "cell_type": "code",
      "source": [
        "df['dep_time'] = pd.to_datetime(df['dep_time'], format='%H:%M')\n",
        "df['arr_time'] = pd.to_datetime(df['arr_time'], format='%H:%M')"
      ],
      "metadata": {
        "id": "Fi_6g6IGWc42"
      },
      "execution_count": 9,
      "outputs": []
    },
    {
      "cell_type": "code",
      "source": [],
      "metadata": {
        "id": "r0fPD5sc_IG6"
      },
      "execution_count": 9,
      "outputs": []
    },
    {
      "cell_type": "code",
      "source": [
        "df['price'] = df['price'].str.replace(',', '')"
      ],
      "metadata": {
        "id": "nm5heqV1aS7H"
      },
      "execution_count": 10,
      "outputs": []
    },
    {
      "cell_type": "code",
      "source": [
        "df['price'] = pd.to_numeric(df['price'])"
      ],
      "metadata": {
        "id": "OAz6bGAxW40E"
      },
      "execution_count": 11,
      "outputs": []
    },
    {
      "cell_type": "code",
      "source": [
        "df.describe()"
      ],
      "metadata": {
        "id": "IGbJqzbC9Ywx",
        "colab": {
          "base_uri": "https://localhost:8080/",
          "height": 300
        },
        "outputId": "5cdf96e7-f84d-4c27-b295-18e14db28593"
      },
      "execution_count": 12,
      "outputs": [
        {
          "output_type": "execute_result",
          "data": {
            "text/plain": [
              "            num_code          price\n",
              "count  300261.000000  300261.000000\n",
              "mean     1417.771709   20883.717666\n",
              "std      1974.514439   22695.911266\n",
              "min       101.000000    1105.000000\n",
              "25%       637.000000    4783.000000\n",
              "50%       818.000000    7425.000000\n",
              "75%       927.000000   42521.000000\n",
              "max      9991.000000  123071.000000"
            ],
            "text/html": [
              "\n",
              "  <div id=\"df-50af2cf9-387a-428b-83ae-785de2456c6e\">\n",
              "    <div class=\"colab-df-container\">\n",
              "      <div>\n",
              "<style scoped>\n",
              "    .dataframe tbody tr th:only-of-type {\n",
              "        vertical-align: middle;\n",
              "    }\n",
              "\n",
              "    .dataframe tbody tr th {\n",
              "        vertical-align: top;\n",
              "    }\n",
              "\n",
              "    .dataframe thead th {\n",
              "        text-align: right;\n",
              "    }\n",
              "</style>\n",
              "<table border=\"1\" class=\"dataframe\">\n",
              "  <thead>\n",
              "    <tr style=\"text-align: right;\">\n",
              "      <th></th>\n",
              "      <th>num_code</th>\n",
              "      <th>price</th>\n",
              "    </tr>\n",
              "  </thead>\n",
              "  <tbody>\n",
              "    <tr>\n",
              "      <th>count</th>\n",
              "      <td>300261.000000</td>\n",
              "      <td>300261.000000</td>\n",
              "    </tr>\n",
              "    <tr>\n",
              "      <th>mean</th>\n",
              "      <td>1417.771709</td>\n",
              "      <td>20883.717666</td>\n",
              "    </tr>\n",
              "    <tr>\n",
              "      <th>std</th>\n",
              "      <td>1974.514439</td>\n",
              "      <td>22695.911266</td>\n",
              "    </tr>\n",
              "    <tr>\n",
              "      <th>min</th>\n",
              "      <td>101.000000</td>\n",
              "      <td>1105.000000</td>\n",
              "    </tr>\n",
              "    <tr>\n",
              "      <th>25%</th>\n",
              "      <td>637.000000</td>\n",
              "      <td>4783.000000</td>\n",
              "    </tr>\n",
              "    <tr>\n",
              "      <th>50%</th>\n",
              "      <td>818.000000</td>\n",
              "      <td>7425.000000</td>\n",
              "    </tr>\n",
              "    <tr>\n",
              "      <th>75%</th>\n",
              "      <td>927.000000</td>\n",
              "      <td>42521.000000</td>\n",
              "    </tr>\n",
              "    <tr>\n",
              "      <th>max</th>\n",
              "      <td>9991.000000</td>\n",
              "      <td>123071.000000</td>\n",
              "    </tr>\n",
              "  </tbody>\n",
              "</table>\n",
              "</div>\n",
              "      <button class=\"colab-df-convert\" onclick=\"convertToInteractive('df-50af2cf9-387a-428b-83ae-785de2456c6e')\"\n",
              "              title=\"Convert this dataframe to an interactive table.\"\n",
              "              style=\"display:none;\">\n",
              "        \n",
              "  <svg xmlns=\"http://www.w3.org/2000/svg\" height=\"24px\"viewBox=\"0 0 24 24\"\n",
              "       width=\"24px\">\n",
              "    <path d=\"M0 0h24v24H0V0z\" fill=\"none\"/>\n",
              "    <path d=\"M18.56 5.44l.94 2.06.94-2.06 2.06-.94-2.06-.94-.94-2.06-.94 2.06-2.06.94zm-11 1L8.5 8.5l.94-2.06 2.06-.94-2.06-.94L8.5 2.5l-.94 2.06-2.06.94zm10 10l.94 2.06.94-2.06 2.06-.94-2.06-.94-.94-2.06-.94 2.06-2.06.94z\"/><path d=\"M17.41 7.96l-1.37-1.37c-.4-.4-.92-.59-1.43-.59-.52 0-1.04.2-1.43.59L10.3 9.45l-7.72 7.72c-.78.78-.78 2.05 0 2.83L4 21.41c.39.39.9.59 1.41.59.51 0 1.02-.2 1.41-.59l7.78-7.78 2.81-2.81c.8-.78.8-2.07 0-2.86zM5.41 20L4 18.59l7.72-7.72 1.47 1.35L5.41 20z\"/>\n",
              "  </svg>\n",
              "      </button>\n",
              "      \n",
              "  <style>\n",
              "    .colab-df-container {\n",
              "      display:flex;\n",
              "      flex-wrap:wrap;\n",
              "      gap: 12px;\n",
              "    }\n",
              "\n",
              "    .colab-df-convert {\n",
              "      background-color: #E8F0FE;\n",
              "      border: none;\n",
              "      border-radius: 50%;\n",
              "      cursor: pointer;\n",
              "      display: none;\n",
              "      fill: #1967D2;\n",
              "      height: 32px;\n",
              "      padding: 0 0 0 0;\n",
              "      width: 32px;\n",
              "    }\n",
              "\n",
              "    .colab-df-convert:hover {\n",
              "      background-color: #E2EBFA;\n",
              "      box-shadow: 0px 1px 2px rgba(60, 64, 67, 0.3), 0px 1px 3px 1px rgba(60, 64, 67, 0.15);\n",
              "      fill: #174EA6;\n",
              "    }\n",
              "\n",
              "    [theme=dark] .colab-df-convert {\n",
              "      background-color: #3B4455;\n",
              "      fill: #D2E3FC;\n",
              "    }\n",
              "\n",
              "    [theme=dark] .colab-df-convert:hover {\n",
              "      background-color: #434B5C;\n",
              "      box-shadow: 0px 1px 3px 1px rgba(0, 0, 0, 0.15);\n",
              "      filter: drop-shadow(0px 1px 2px rgba(0, 0, 0, 0.3));\n",
              "      fill: #FFFFFF;\n",
              "    }\n",
              "  </style>\n",
              "\n",
              "      <script>\n",
              "        const buttonEl =\n",
              "          document.querySelector('#df-50af2cf9-387a-428b-83ae-785de2456c6e button.colab-df-convert');\n",
              "        buttonEl.style.display =\n",
              "          google.colab.kernel.accessAllowed ? 'block' : 'none';\n",
              "\n",
              "        async function convertToInteractive(key) {\n",
              "          const element = document.querySelector('#df-50af2cf9-387a-428b-83ae-785de2456c6e');\n",
              "          const dataTable =\n",
              "            await google.colab.kernel.invokeFunction('convertToInteractive',\n",
              "                                                     [key], {});\n",
              "          if (!dataTable) return;\n",
              "\n",
              "          const docLinkHtml = 'Like what you see? Visit the ' +\n",
              "            '<a target=\"_blank\" href=https://colab.research.google.com/notebooks/data_table.ipynb>data table notebook</a>'\n",
              "            + ' to learn more about interactive tables.';\n",
              "          element.innerHTML = '';\n",
              "          dataTable['output_type'] = 'display_data';\n",
              "          await google.colab.output.renderOutput(dataTable, element);\n",
              "          const docLink = document.createElement('div');\n",
              "          docLink.innerHTML = docLinkHtml;\n",
              "          element.appendChild(docLink);\n",
              "        }\n",
              "      </script>\n",
              "    </div>\n",
              "  </div>\n",
              "  "
            ]
          },
          "metadata": {},
          "execution_count": 12
        }
      ]
    },
    {
      "cell_type": "code",
      "source": [
        "df.dtypes"
      ],
      "metadata": {
        "id": "FilvbUufZjwB",
        "colab": {
          "base_uri": "https://localhost:8080/"
        },
        "outputId": "f547f138-1ae0-4c99-e1b7-3fa87cd48711"
      },
      "execution_count": 13,
      "outputs": [
        {
          "output_type": "execute_result",
          "data": {
            "text/plain": [
              "date          datetime64[ns]\n",
              "airline               object\n",
              "ch_code               object\n",
              "num_code               int64\n",
              "dep_time      datetime64[ns]\n",
              "from                  object\n",
              "time_taken            object\n",
              "stop                  object\n",
              "arr_time      datetime64[ns]\n",
              "to                    object\n",
              "price                  int64\n",
              "dtype: object"
            ]
          },
          "metadata": {},
          "execution_count": 13
        }
      ]
    },
    {
      "cell_type": "code",
      "source": [
        "df.isnull().sum()"
      ],
      "metadata": {
        "id": "mdPete3w9A4L",
        "colab": {
          "base_uri": "https://localhost:8080/"
        },
        "outputId": "9e255130-a778-4aa8-f593-03ab7ce6b92b"
      },
      "execution_count": 14,
      "outputs": [
        {
          "output_type": "execute_result",
          "data": {
            "text/plain": [
              "date          0\n",
              "airline       0\n",
              "ch_code       0\n",
              "num_code      0\n",
              "dep_time      0\n",
              "from          0\n",
              "time_taken    0\n",
              "stop          0\n",
              "arr_time      0\n",
              "to            0\n",
              "price         0\n",
              "dtype: int64"
            ]
          },
          "metadata": {},
          "execution_count": 14
        }
      ]
    },
    {
      "cell_type": "code",
      "source": [
        "objcol = df.select_dtypes(include = \"object\").columns"
      ],
      "metadata": {
        "id": "lynpui6VwTIL"
      },
      "execution_count": 15,
      "outputs": []
    },
    {
      "cell_type": "code",
      "source": [],
      "metadata": {
        "id": "9uO4JqQv8t3s"
      },
      "execution_count": 15,
      "outputs": []
    },
    {
      "cell_type": "code",
      "source": [
        "from sklearn.preprocessing import LabelEncoder\n",
        "le = LabelEncoder()\n",
        "for feat in objcol:\n",
        "    df[feat] = le.fit_transform(df[feat])"
      ],
      "metadata": {
        "id": "bvW9skB_aZ_g"
      },
      "execution_count": 16,
      "outputs": []
    },
    {
      "cell_type": "code",
      "source": [
        "df.dtypes"
      ],
      "metadata": {
        "id": "UT8LKoRKcMJC",
        "colab": {
          "base_uri": "https://localhost:8080/"
        },
        "outputId": "35b2faa3-7521-4c6d-a303-14810594b2d2"
      },
      "execution_count": 17,
      "outputs": [
        {
          "output_type": "execute_result",
          "data": {
            "text/plain": [
              "date          datetime64[ns]\n",
              "airline                int64\n",
              "ch_code                int64\n",
              "num_code               int64\n",
              "dep_time      datetime64[ns]\n",
              "from                   int64\n",
              "time_taken             int64\n",
              "stop                   int64\n",
              "arr_time      datetime64[ns]\n",
              "to                     int64\n",
              "price                  int64\n",
              "dtype: object"
            ]
          },
          "metadata": {},
          "execution_count": 17
        }
      ]
    },
    {
      "cell_type": "code",
      "source": [
        "df.head()"
      ],
      "metadata": {
        "id": "-vwwa_eVwrm9",
        "colab": {
          "base_uri": "https://localhost:8080/",
          "height": 206
        },
        "outputId": "f3a0612c-ca68-4faa-b8bd-a9f5ae1b0e63"
      },
      "execution_count": 18,
      "outputs": [
        {
          "output_type": "execute_result",
          "data": {
            "text/plain": [
              "        date  airline  ch_code  num_code            dep_time  from  \\\n",
              "0 2022-02-11        4        6      8709 1900-01-01 18:55:00     2   \n",
              "1 2022-02-11        4        6      8157 1900-01-01 06:20:00     2   \n",
              "2 2022-02-11        1        4       764 1900-01-01 04:25:00     2   \n",
              "3 2022-02-11        7        7       995 1900-01-01 10:20:00     2   \n",
              "4 2022-02-11        7        7       963 1900-01-01 08:50:00     2   \n",
              "\n",
              "   time_taken  stop            arr_time  to  price  \n",
              "0          16    39 1900-01-01 21:05:00   5   5953  \n",
              "1          18    39 1900-01-01 08:40:00   5   5953  \n",
              "2          16    39 1900-01-01 06:35:00   5   5956  \n",
              "3          17    39 1900-01-01 12:35:00   5   5955  \n",
              "4          18    39 1900-01-01 11:10:00   5   5955  "
            ],
            "text/html": [
              "\n",
              "  <div id=\"df-2016db0e-5503-48e2-9894-e416ac66783b\">\n",
              "    <div class=\"colab-df-container\">\n",
              "      <div>\n",
              "<style scoped>\n",
              "    .dataframe tbody tr th:only-of-type {\n",
              "        vertical-align: middle;\n",
              "    }\n",
              "\n",
              "    .dataframe tbody tr th {\n",
              "        vertical-align: top;\n",
              "    }\n",
              "\n",
              "    .dataframe thead th {\n",
              "        text-align: right;\n",
              "    }\n",
              "</style>\n",
              "<table border=\"1\" class=\"dataframe\">\n",
              "  <thead>\n",
              "    <tr style=\"text-align: right;\">\n",
              "      <th></th>\n",
              "      <th>date</th>\n",
              "      <th>airline</th>\n",
              "      <th>ch_code</th>\n",
              "      <th>num_code</th>\n",
              "      <th>dep_time</th>\n",
              "      <th>from</th>\n",
              "      <th>time_taken</th>\n",
              "      <th>stop</th>\n",
              "      <th>arr_time</th>\n",
              "      <th>to</th>\n",
              "      <th>price</th>\n",
              "    </tr>\n",
              "  </thead>\n",
              "  <tbody>\n",
              "    <tr>\n",
              "      <th>0</th>\n",
              "      <td>2022-02-11</td>\n",
              "      <td>4</td>\n",
              "      <td>6</td>\n",
              "      <td>8709</td>\n",
              "      <td>1900-01-01 18:55:00</td>\n",
              "      <td>2</td>\n",
              "      <td>16</td>\n",
              "      <td>39</td>\n",
              "      <td>1900-01-01 21:05:00</td>\n",
              "      <td>5</td>\n",
              "      <td>5953</td>\n",
              "    </tr>\n",
              "    <tr>\n",
              "      <th>1</th>\n",
              "      <td>2022-02-11</td>\n",
              "      <td>4</td>\n",
              "      <td>6</td>\n",
              "      <td>8157</td>\n",
              "      <td>1900-01-01 06:20:00</td>\n",
              "      <td>2</td>\n",
              "      <td>18</td>\n",
              "      <td>39</td>\n",
              "      <td>1900-01-01 08:40:00</td>\n",
              "      <td>5</td>\n",
              "      <td>5953</td>\n",
              "    </tr>\n",
              "    <tr>\n",
              "      <th>2</th>\n",
              "      <td>2022-02-11</td>\n",
              "      <td>1</td>\n",
              "      <td>4</td>\n",
              "      <td>764</td>\n",
              "      <td>1900-01-01 04:25:00</td>\n",
              "      <td>2</td>\n",
              "      <td>16</td>\n",
              "      <td>39</td>\n",
              "      <td>1900-01-01 06:35:00</td>\n",
              "      <td>5</td>\n",
              "      <td>5956</td>\n",
              "    </tr>\n",
              "    <tr>\n",
              "      <th>3</th>\n",
              "      <td>2022-02-11</td>\n",
              "      <td>7</td>\n",
              "      <td>7</td>\n",
              "      <td>995</td>\n",
              "      <td>1900-01-01 10:20:00</td>\n",
              "      <td>2</td>\n",
              "      <td>17</td>\n",
              "      <td>39</td>\n",
              "      <td>1900-01-01 12:35:00</td>\n",
              "      <td>5</td>\n",
              "      <td>5955</td>\n",
              "    </tr>\n",
              "    <tr>\n",
              "      <th>4</th>\n",
              "      <td>2022-02-11</td>\n",
              "      <td>7</td>\n",
              "      <td>7</td>\n",
              "      <td>963</td>\n",
              "      <td>1900-01-01 08:50:00</td>\n",
              "      <td>2</td>\n",
              "      <td>18</td>\n",
              "      <td>39</td>\n",
              "      <td>1900-01-01 11:10:00</td>\n",
              "      <td>5</td>\n",
              "      <td>5955</td>\n",
              "    </tr>\n",
              "  </tbody>\n",
              "</table>\n",
              "</div>\n",
              "      <button class=\"colab-df-convert\" onclick=\"convertToInteractive('df-2016db0e-5503-48e2-9894-e416ac66783b')\"\n",
              "              title=\"Convert this dataframe to an interactive table.\"\n",
              "              style=\"display:none;\">\n",
              "        \n",
              "  <svg xmlns=\"http://www.w3.org/2000/svg\" height=\"24px\"viewBox=\"0 0 24 24\"\n",
              "       width=\"24px\">\n",
              "    <path d=\"M0 0h24v24H0V0z\" fill=\"none\"/>\n",
              "    <path d=\"M18.56 5.44l.94 2.06.94-2.06 2.06-.94-2.06-.94-.94-2.06-.94 2.06-2.06.94zm-11 1L8.5 8.5l.94-2.06 2.06-.94-2.06-.94L8.5 2.5l-.94 2.06-2.06.94zm10 10l.94 2.06.94-2.06 2.06-.94-2.06-.94-.94-2.06-.94 2.06-2.06.94z\"/><path d=\"M17.41 7.96l-1.37-1.37c-.4-.4-.92-.59-1.43-.59-.52 0-1.04.2-1.43.59L10.3 9.45l-7.72 7.72c-.78.78-.78 2.05 0 2.83L4 21.41c.39.39.9.59 1.41.59.51 0 1.02-.2 1.41-.59l7.78-7.78 2.81-2.81c.8-.78.8-2.07 0-2.86zM5.41 20L4 18.59l7.72-7.72 1.47 1.35L5.41 20z\"/>\n",
              "  </svg>\n",
              "      </button>\n",
              "      \n",
              "  <style>\n",
              "    .colab-df-container {\n",
              "      display:flex;\n",
              "      flex-wrap:wrap;\n",
              "      gap: 12px;\n",
              "    }\n",
              "\n",
              "    .colab-df-convert {\n",
              "      background-color: #E8F0FE;\n",
              "      border: none;\n",
              "      border-radius: 50%;\n",
              "      cursor: pointer;\n",
              "      display: none;\n",
              "      fill: #1967D2;\n",
              "      height: 32px;\n",
              "      padding: 0 0 0 0;\n",
              "      width: 32px;\n",
              "    }\n",
              "\n",
              "    .colab-df-convert:hover {\n",
              "      background-color: #E2EBFA;\n",
              "      box-shadow: 0px 1px 2px rgba(60, 64, 67, 0.3), 0px 1px 3px 1px rgba(60, 64, 67, 0.15);\n",
              "      fill: #174EA6;\n",
              "    }\n",
              "\n",
              "    [theme=dark] .colab-df-convert {\n",
              "      background-color: #3B4455;\n",
              "      fill: #D2E3FC;\n",
              "    }\n",
              "\n",
              "    [theme=dark] .colab-df-convert:hover {\n",
              "      background-color: #434B5C;\n",
              "      box-shadow: 0px 1px 3px 1px rgba(0, 0, 0, 0.15);\n",
              "      filter: drop-shadow(0px 1px 2px rgba(0, 0, 0, 0.3));\n",
              "      fill: #FFFFFF;\n",
              "    }\n",
              "  </style>\n",
              "\n",
              "      <script>\n",
              "        const buttonEl =\n",
              "          document.querySelector('#df-2016db0e-5503-48e2-9894-e416ac66783b button.colab-df-convert');\n",
              "        buttonEl.style.display =\n",
              "          google.colab.kernel.accessAllowed ? 'block' : 'none';\n",
              "\n",
              "        async function convertToInteractive(key) {\n",
              "          const element = document.querySelector('#df-2016db0e-5503-48e2-9894-e416ac66783b');\n",
              "          const dataTable =\n",
              "            await google.colab.kernel.invokeFunction('convertToInteractive',\n",
              "                                                     [key], {});\n",
              "          if (!dataTable) return;\n",
              "\n",
              "          const docLinkHtml = 'Like what you see? Visit the ' +\n",
              "            '<a target=\"_blank\" href=https://colab.research.google.com/notebooks/data_table.ipynb>data table notebook</a>'\n",
              "            + ' to learn more about interactive tables.';\n",
              "          element.innerHTML = '';\n",
              "          dataTable['output_type'] = 'display_data';\n",
              "          await google.colab.output.renderOutput(dataTable, element);\n",
              "          const docLink = document.createElement('div');\n",
              "          docLink.innerHTML = docLinkHtml;\n",
              "          element.appendChild(docLink);\n",
              "        }\n",
              "      </script>\n",
              "    </div>\n",
              "  </div>\n",
              "  "
            ]
          },
          "metadata": {},
          "execution_count": 18
        }
      ]
    },
    {
      "cell_type": "code",
      "source": [
        "df=df.drop(['date','dep_time','arr_time'],axis=1)"
      ],
      "metadata": {
        "id": "D_KnHGsxpcqs"
      },
      "execution_count": 19,
      "outputs": []
    },
    {
      "cell_type": "code",
      "source": [
        "import pandas as pd\n",
        "import numpy as np\n",
        "\n",
        "# Function to calculate entropy\n",
        "def entropy(target_col):\n",
        "    elements, counts = np.unique(target_col, return_counts = True)\n",
        "    entropy = np.sum([(-counts[i]/np.sum(counts)) * np.log2(counts[i]/np.sum(counts)) for i in range(len(elements))])\n",
        "    return entropy\n"
      ],
      "metadata": {
        "id": "OoJ3XihV8jJb"
      },
      "execution_count": 20,
      "outputs": []
    },
    {
      "cell_type": "code",
      "source": [
        "# Function to calculate information gain\n",
        "def information_gain(data, feature, target):\n",
        "    # Calculate parent entropy\n",
        "    parent_entropy = entropy(data[target])\n",
        "    \n",
        "    # Calculate the weighted entropy of each child\n",
        "    vals, counts = np.unique(data[feature], return_counts=True)\n",
        "    weighted_entropy = np.sum([(counts[i]/np.sum(counts)) * entropy(data.where(data[feature] == vals[i]).dropna()[target]) for i in range(len(vals))])\n",
        "    \n",
        "    # Calculate information gain\n",
        "    information_gain = parent_entropy - weighted_entropy\n",
        "    return information_gain"
      ],
      "metadata": {
        "id": "PUcZCOEc870k"
      },
      "execution_count": 21,
      "outputs": []
    },
    {
      "cell_type": "code",
      "source": [
        "# Function to build decision tree\n",
        "def build_tree(data, target, features, max_depth):\n",
        "    # Select the best feature to split the data\n",
        "    info_gains = [information_gain(data, feature, target) for feature in features]\n",
        "    best_feature_index = np.argmax(info_gains)\n",
        "    best_feature = features[best_feature_index]\n",
        "    \n",
        "    # Create a node for the decision tree\n",
        "    tree = {}\n",
        "    tree['feature'] = best_feature\n",
        "    \n",
        "    # Remove the best feature from the list of features\n",
        "    features = [f for f in features if f != best_feature]\n",
        "    \n",
        "    # Recursively build the decision tree\n",
        "    for value in np.unique(data[best_feature]):\n",
        "        sub_data = data.where(data[best_feature] == value).dropna()\n",
        "        sub_tree = {}\n",
        "        \n",
        "        # Check for stopping criteria\n",
        "        if len(sub_data[target].unique()) == 1:\n",
        "            sub_tree['value'] = sub_data[target].unique()[0]\n",
        "        elif len(features) == 0 or max_depth == 1:\n",
        "            sub_tree['value'] = sub_data[target].mode()[0]\n",
        "        else:\n",
        "            sub_tree = build_tree(sub_data, target, features, max_depth-1)\n",
        "        \n",
        "        tree[value] = sub_tree\n",
        "        \n",
        "    return tree"
      ],
      "metadata": {
        "id": "g-MQJ1zH8cTv"
      },
      "execution_count": 22,
      "outputs": []
    },
    {
      "cell_type": "code",
      "source": [
        "# Function to predict using decision tree\n",
        "def predict(tree, sample):\n",
        "    if isinstance(tree, int):\n",
        "        return tree\n",
        "    for key in tree.keys():\n",
        "        if key == 'value':\n",
        "            return tree['value']\n",
        "        else:\n",
        "            value = sample[tree['feature']]\n",
        "            if str(value) in tree[str(key)]:\n",
        "                subtree = tree[str(key)][str(value)]\n",
        "                return predict(subtree, sample)\n",
        "\n"
      ],
      "metadata": {
        "id": "y4taKZIAGIam"
      },
      "execution_count": 23,
      "outputs": []
    },
    {
      "cell_type": "code",
      "source": [
        "def predict(tree, sample):\n",
        "    if isinstance(tree, int):\n",
        "        return tree\n",
        "    for key in tree.keys():\n",
        "        if key == 'value':\n",
        "            return tree['value']\n",
        "        else:\n",
        "            value = sample[tree['feature']]\n",
        "            if str(value) in tree[key]:\n",
        "                subtree = tree[key][value]\n",
        "                return predict(subtree, sample)\n"
      ],
      "metadata": {
        "id": "rk-wLwkd8b9n"
      },
      "execution_count": 24,
      "outputs": []
    },
    {
      "cell_type": "code",
      "source": [
        "# Function to build a random forest regressor\n",
        "def random_forest_regressor(data, target, num_trees, max_depth):\n",
        "    trees = []\n",
        "    for i in range(num_trees):\n",
        "        # Create a bootstrap sample of the data\n",
        "        bootstrap_sample = data.sample(frac=1, replace=True)\n",
        "        \n",
        "        # Select a random subset of features\n",
        "        features = bootstrap_sample.columns.tolist()\n",
        "        features.remove(target)\n",
        "        num_features = len(features)\n",
        "        num_features_selected = int(np.sqrt(num_features))\n",
        "        feature_indices = np.random.choice(num_features, size=num_features_selected, replace=False)\n",
        "        selected_features = [features[index] for index in feature_indices]\n",
        "        \n",
        "        # Build a decision tree using the bootstrap sample and selected features\n",
        "        tree = build_tree(bootstrap_sample, target, selected_features, max_depth)\n",
        "        \n",
        "        # Add the decision tree to the list of trees\n",
        "        trees.append(tree)\n",
        "    \n",
        "    # Return the list of trees\n",
        "    return trees\n"
      ],
      "metadata": {
        "id": "HqnwiHyw8qOw"
      },
      "execution_count": 25,
      "outputs": []
    },
    {
      "cell_type": "code",
      "source": [],
      "metadata": {
        "id": "0gHmC9Z98kp3"
      },
      "execution_count": 25,
      "outputs": []
    },
    {
      "cell_type": "code",
      "source": [
        "def predict_rf(trees, sample):\n",
        "    predictions = []\n",
        "    for tree in trees:\n",
        "        prediction = predict(tree, sample)\n",
        "        if prediction is not None:\n",
        "            predictions.append(prediction)\n",
        "    return np.mean(predictions)\n",
        "\n"
      ],
      "metadata": {
        "id": "nzBakOkT-1S1"
      },
      "execution_count": 26,
      "outputs": []
    },
    {
      "cell_type": "code",
      "source": [],
      "metadata": {
        "id": "9dPxwcKutGqJ"
      },
      "execution_count": 26,
      "outputs": []
    },
    {
      "cell_type": "code",
      "source": [
        "target = 'price'\n",
        "max_depth = 5\n",
        "num_trees = 10\n",
        "trees = random_forest_regressor(df, target, num_trees, max_depth)\n",
        "sample = df.iloc[0]\n",
        "prediction = predict_rf(sample, trees)\n",
        "print('Prediction:', prediction)\n",
        "samples = df.drop(columns=target)\n",
        "labels = df[target]\n",
        "predictions = [predict_rf(trees, sample) for _, sample in samples.iterrows()]\n",
        "print(predictions)\n",
        "mse = np.mean((predictions - labels) ** 2)\n",
        "print('Mean squared error:', mse)"
      ],
      "metadata": {
        "colab": {
          "base_uri": "https://localhost:8080/"
        },
        "id": "RoncAoIpXNqX",
        "outputId": "fa7660dc-bcbe-4df6-dda2-98853ff10759"
      },
      "execution_count": null,
      "outputs": [
        {
          "output_type": "stream",
          "name": "stdout",
          "text": [
            "Prediction: 1841.75\n"
          ]
        },
        {
          "output_type": "stream",
          "name": "stderr",
          "text": [
            "/usr/local/lib/python3.9/dist-packages/numpy/core/fromnumeric.py:3474: RuntimeWarning: Mean of empty slice.\n",
            "  return _methods._mean(a, axis=axis, dtype=dtype,\n",
            "/usr/local/lib/python3.9/dist-packages/numpy/core/_methods.py:189: RuntimeWarning: invalid value encountered in double_scalars\n",
            "  ret = ret.dtype.type(ret / rcount)\n"
          ]
        }
      ]
    },
    {
      "cell_type": "code",
      "source": [],
      "metadata": {
        "id": "ZfZeWKu4mflt"
      },
      "execution_count": null,
      "outputs": []
    }
  ]
}